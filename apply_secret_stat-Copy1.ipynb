{
 "cells": [
  {
   "cell_type": "code",
   "execution_count": 1,
   "metadata": {},
   "outputs": [],
   "source": [
    "import os\n",
    "import json\n",
    "import openpyxl\n",
    "import pandas as pd\n",
    "import numpy as np\n",
    "from main import apply_secret_stat"
   ]
  },
  {
   "cell_type": "code",
   "execution_count": 2,
   "metadata": {},
   "outputs": [
    {
     "name": "stdout",
     "output_type": "stream",
     "text": [
      "/home/guillaume/Documents/secret_stat\r\n"
     ]
    }
   ],
   "source": [
    "!pwd"
   ]
  },
  {
   "cell_type": "code",
   "execution_count": 3,
   "metadata": {},
   "outputs": [],
   "source": [
    "path_to_data = \"./data\""
   ]
  },
  {
   "cell_type": "code",
   "execution_count": 4,
   "metadata": {},
   "outputs": [],
   "source": [
    "file_name = !ls $path_to_data"
   ]
  },
  {
   "cell_type": "code",
   "execution_count": 5,
   "metadata": {},
   "outputs": [
    {
     "data": {
      "text/plain": [
       "'20210319_AAP Industrie_BDD OK_Projets annoncés au 15 03_v1.3.xlsx'"
      ]
     },
     "execution_count": 5,
     "metadata": {},
     "output_type": "execute_result"
    }
   ],
   "source": [
    "file_name = file_name[0]\n",
    "file_name"
   ]
  },
  {
   "cell_type": "code",
   "execution_count": 6,
   "metadata": {},
   "outputs": [],
   "source": [
    "path = os.path.join(path_to_data, file_name)"
   ]
  },
  {
   "cell_type": "code",
   "execution_count": 7,
   "metadata": {},
   "outputs": [],
   "source": [
    "dtype = {\n",
    "    'MESURE' :object,\n",
    "    'MESURE_LIGHT':object,\n",
    "    'VOLET_RELANCE':object,\n",
    "    'ANNONCE':object,\n",
    "    'ENTREPRISE':object,\n",
    "    'SIRET (OU SIREN à défaut)':object,\n",
    "    'FILIÈRE':object,\n",
    "    'DESCRIPTION_PROJET':object,\n",
    "    'MONTANT_INVESTISSEMENT':object,\n",
    "    'MONTANT_PARTICIPATION_ETAT':np.float,\n",
    "    'TYPE_ENTREPRISE':object,\n",
    "    'EMPLOIS_CREES':object,\n",
    "    'EMPLOIS_CONFORTES':object,\n",
    "    'TONNES CO2':object,\n",
    "    'CODE_POSTAL':object,\n",
    "    'NOM_COMMUNE':object,\n",
    "    'CODE_DEPARTEMENT':object,\n",
    "    'NOM_DEPARTEMENT':object,\n",
    "    'NOM_REGION':object,\n",
    "    'CODE_REGION':object,\n",
    "    'COORDONNEES_GPS':object,\n",
    "}"
   ]
  },
  {
   "cell_type": "code",
   "execution_count": 8,
   "metadata": {},
   "outputs": [],
   "source": [
    "use_col = ['MESURE', 'MESURE_LIGHT', 'VOLET_RELANCE', 'ANNONCE', 'ENTREPRISE',\n",
    "       'SIRET (OU SIREN à défaut)', 'FILIÈRE', 'DESCRIPTION_PROJET',\n",
    "       'MONTANT_INVESTISSEMENT', 'MONTANT_PARTICIPATION_ETAT',\n",
    "       'TYPE_ENTREPRISE', 'EMPLOIS_CREES', 'EMPLOIS_CONFORTES', 'TONNES CO2',\n",
    "       'CODE_POSTAL', 'NOM_COMMUNE', 'CODE_DEPARTEMENT', 'NOM_DEPARTEMENT',\n",
    "       'NOM_REGION', 'CODE_REGION', 'COORDONNEES_GPS']"
   ]
  },
  {
   "cell_type": "code",
   "execution_count": 9,
   "metadata": {},
   "outputs": [],
   "source": [
    "#df = pd.read_csv(path, sep=\";\", encoding=\"latin1\")\n",
    "df = pd.read_excel(path)"
   ]
  },
  {
   "cell_type": "code",
   "execution_count": 10,
   "metadata": {},
   "outputs": [
    {
     "data": {
      "text/plain": [
       "(1219, 22)"
      ]
     },
     "execution_count": 10,
     "metadata": {},
     "output_type": "execute_result"
    }
   ],
   "source": [
    "df.shape"
   ]
  },
  {
   "cell_type": "code",
   "execution_count": 11,
   "metadata": {
    "scrolled": true
   },
   "outputs": [
    {
     "data": {
      "text/html": [
       "<div>\n",
       "<style scoped>\n",
       "    .dataframe tbody tr th:only-of-type {\n",
       "        vertical-align: middle;\n",
       "    }\n",
       "\n",
       "    .dataframe tbody tr th {\n",
       "        vertical-align: top;\n",
       "    }\n",
       "\n",
       "    .dataframe thead th {\n",
       "        text-align: right;\n",
       "    }\n",
       "</style>\n",
       "<table border=\"1\" class=\"dataframe\">\n",
       "  <thead>\n",
       "    <tr style=\"text-align: right;\">\n",
       "      <th></th>\n",
       "      <th>MESURE</th>\n",
       "      <th>MESURE_LIGHT</th>\n",
       "      <th>VOLET_RELANCE</th>\n",
       "      <th>MISE A JOUR</th>\n",
       "      <th>ENTREPRISE</th>\n",
       "      <th>SIREN</th>\n",
       "      <th>FILIÈRE</th>\n",
       "      <th>DESCRIPTION_PROJET</th>\n",
       "      <th>MONTANT_INVESTISSEMENT</th>\n",
       "      <th>MONTANT_PARTICIPATION_ETAT</th>\n",
       "      <th>...</th>\n",
       "      <th>EMPLOIS_CONFORTES</th>\n",
       "      <th>TONNES EQUIVALENT CO2</th>\n",
       "      <th>CODE_POSTAL</th>\n",
       "      <th>ERREUR</th>\n",
       "      <th>NOM_COMMUNE</th>\n",
       "      <th>CODE_DEPARTEMENT</th>\n",
       "      <th>NOM_DEPARTEMENT</th>\n",
       "      <th>NOM_REGION</th>\n",
       "      <th>CODE_REGION</th>\n",
       "      <th>COORDONNEES_GPS</th>\n",
       "    </tr>\n",
       "  </thead>\n",
       "  <tbody>\n",
       "    <tr>\n",
       "      <th>0</th>\n",
       "      <td>Modernisation de la filière aéronautique</td>\n",
       "      <td>Aéronautique</td>\n",
       "      <td>Verdissement</td>\n",
       "      <td>2021-02-10</td>\n",
       "      <td>AEQUS AEROSPACE CHOLET</td>\n",
       "      <td>73201097</td>\n",
       "      <td>Aéronautique</td>\n",
       "      <td>Aequs est spécialisée dans les ensembles de pi...</td>\n",
       "      <td>3538000.0</td>\n",
       "      <td>800000.0</td>\n",
       "      <td>...</td>\n",
       "      <td>NaN</td>\n",
       "      <td>NaN</td>\n",
       "      <td>49280.0</td>\n",
       "      <td>NaN</td>\n",
       "      <td>MAZIÈRES-EN-MAUGES</td>\n",
       "      <td>49</td>\n",
       "      <td>MAINE-ET-LOIRE</td>\n",
       "      <td>PAYS DE LA LOIRE</td>\n",
       "      <td>52</td>\n",
       "      <td>47.05980143,-0.795548412055</td>\n",
       "    </tr>\n",
       "    <tr>\n",
       "      <th>1</th>\n",
       "      <td>Modernisation de la filière aéronautique</td>\n",
       "      <td>Aéronautique</td>\n",
       "      <td>Verdissement</td>\n",
       "      <td>2021-02-10</td>\n",
       "      <td>TIVOLY</td>\n",
       "      <td>76120021</td>\n",
       "      <td>Aéronautique</td>\n",
       "      <td>TIVOLY SA fournit des solutions d’usinage (out...</td>\n",
       "      <td>3051160.0</td>\n",
       "      <td>1153656.0</td>\n",
       "      <td>...</td>\n",
       "      <td>NaN</td>\n",
       "      <td>NaN</td>\n",
       "      <td>42100.0</td>\n",
       "      <td>NaN</td>\n",
       "      <td>SAINT-ETIENNE</td>\n",
       "      <td>42</td>\n",
       "      <td>LOIRE</td>\n",
       "      <td>AUVERGNE-RHÔNE-ALPES</td>\n",
       "      <td>84</td>\n",
       "      <td>45.4301235512,4.37913997076</td>\n",
       "    </tr>\n",
       "    <tr>\n",
       "      <th>2</th>\n",
       "      <td>Modernisation de la filière aéronautique</td>\n",
       "      <td>Aéronautique</td>\n",
       "      <td>Verdissement</td>\n",
       "      <td>2021-02-10</td>\n",
       "      <td>EXAMECA</td>\n",
       "      <td>97180509</td>\n",
       "      <td>Aéronautique</td>\n",
       "      <td>EXAMECA fait partie du groupe AD Industries, s...</td>\n",
       "      <td>1616400.0</td>\n",
       "      <td>800000.0</td>\n",
       "      <td>...</td>\n",
       "      <td>NaN</td>\n",
       "      <td>NaN</td>\n",
       "      <td>64121.0</td>\n",
       "      <td>NaN</td>\n",
       "      <td>SERRES-CASTET</td>\n",
       "      <td>64</td>\n",
       "      <td>PYRÉNÉES-ATLANTIQUES</td>\n",
       "      <td>NOUVELLE-AQUITAINE</td>\n",
       "      <td>75</td>\n",
       "      <td>43.3796823116,-0.366642676872</td>\n",
       "    </tr>\n",
       "    <tr>\n",
       "      <th>3</th>\n",
       "      <td>Modernisation de la filière aéronautique</td>\n",
       "      <td>Aéronautique</td>\n",
       "      <td>Verdissement</td>\n",
       "      <td>2021-02-10</td>\n",
       "      <td>PRECIDELTA</td>\n",
       "      <td>300427929</td>\n",
       "      <td>Aéronautique</td>\n",
       "      <td>PRECIDELTA  est une PME  située dans la drome ...</td>\n",
       "      <td>200910.0</td>\n",
       "      <td>160728.0</td>\n",
       "      <td>...</td>\n",
       "      <td>NaN</td>\n",
       "      <td>NaN</td>\n",
       "      <td>26000.0</td>\n",
       "      <td>NaN</td>\n",
       "      <td>VALENCE</td>\n",
       "      <td>26</td>\n",
       "      <td>DRÔME</td>\n",
       "      <td>AUVERGNE-RHÔNE-ALPES</td>\n",
       "      <td>84</td>\n",
       "      <td>44.92997027718649, 4.89887402208982</td>\n",
       "    </tr>\n",
       "    <tr>\n",
       "      <th>4</th>\n",
       "      <td>Modernisation de la filière aéronautique</td>\n",
       "      <td>Aéronautique</td>\n",
       "      <td>Verdissement</td>\n",
       "      <td>2021-02-10</td>\n",
       "      <td>RESSORTS MASSELIN</td>\n",
       "      <td>300773603</td>\n",
       "      <td>Aéronautique</td>\n",
       "      <td>Ressorts Masselin est un groupe familial et in...</td>\n",
       "      <td>954543.0</td>\n",
       "      <td>763634.0</td>\n",
       "      <td>...</td>\n",
       "      <td>NaN</td>\n",
       "      <td>NaN</td>\n",
       "      <td>76140.0</td>\n",
       "      <td>NaN</td>\n",
       "      <td>LE PETIT-QUEVILLY</td>\n",
       "      <td>76</td>\n",
       "      <td>SEINE-MARITIME</td>\n",
       "      <td>NORMANDIE</td>\n",
       "      <td>28</td>\n",
       "      <td>49.4238134718,1.06033289032</td>\n",
       "    </tr>\n",
       "  </tbody>\n",
       "</table>\n",
       "<p>5 rows × 22 columns</p>\n",
       "</div>"
      ],
      "text/plain": [
       "                                     MESURE  MESURE_LIGHT VOLET_RELANCE  \\\n",
       "0  Modernisation de la filière aéronautique  Aéronautique  Verdissement   \n",
       "1  Modernisation de la filière aéronautique  Aéronautique  Verdissement   \n",
       "2  Modernisation de la filière aéronautique  Aéronautique  Verdissement   \n",
       "3  Modernisation de la filière aéronautique  Aéronautique  Verdissement   \n",
       "4  Modernisation de la filière aéronautique  Aéronautique  Verdissement   \n",
       "\n",
       "  MISE A JOUR              ENTREPRISE      SIREN       FILIÈRE  \\\n",
       "0  2021-02-10  AEQUS AEROSPACE CHOLET   73201097  Aéronautique   \n",
       "1  2021-02-10                  TIVOLY   76120021  Aéronautique   \n",
       "2  2021-02-10                 EXAMECA   97180509  Aéronautique   \n",
       "3  2021-02-10              PRECIDELTA  300427929  Aéronautique   \n",
       "4  2021-02-10       RESSORTS MASSELIN  300773603  Aéronautique   \n",
       "\n",
       "                                  DESCRIPTION_PROJET  MONTANT_INVESTISSEMENT  \\\n",
       "0  Aequs est spécialisée dans les ensembles de pi...               3538000.0   \n",
       "1  TIVOLY SA fournit des solutions d’usinage (out...               3051160.0   \n",
       "2  EXAMECA fait partie du groupe AD Industries, s...               1616400.0   \n",
       "3  PRECIDELTA  est une PME  située dans la drome ...                200910.0   \n",
       "4  Ressorts Masselin est un groupe familial et in...                954543.0   \n",
       "\n",
       "   MONTANT_PARTICIPATION_ETAT  ... EMPLOIS_CONFORTES  TONNES EQUIVALENT CO2  \\\n",
       "0                    800000.0  ...               NaN                    NaN   \n",
       "1                   1153656.0  ...               NaN                    NaN   \n",
       "2                    800000.0  ...               NaN                    NaN   \n",
       "3                    160728.0  ...               NaN                    NaN   \n",
       "4                    763634.0  ...               NaN                    NaN   \n",
       "\n",
       "   CODE_POSTAL  ERREUR         NOM_COMMUNE CODE_DEPARTEMENT  \\\n",
       "0      49280.0     NaN  MAZIÈRES-EN-MAUGES               49   \n",
       "1      42100.0     NaN       SAINT-ETIENNE               42   \n",
       "2      64121.0     NaN       SERRES-CASTET               64   \n",
       "3      26000.0     NaN             VALENCE               26   \n",
       "4      76140.0     NaN   LE PETIT-QUEVILLY               76   \n",
       "\n",
       "        NOM_DEPARTEMENT            NOM_REGION CODE_REGION  \\\n",
       "0        MAINE-ET-LOIRE      PAYS DE LA LOIRE          52   \n",
       "1                 LOIRE  AUVERGNE-RHÔNE-ALPES          84   \n",
       "2  PYRÉNÉES-ATLANTIQUES    NOUVELLE-AQUITAINE          75   \n",
       "3                 DRÔME  AUVERGNE-RHÔNE-ALPES          84   \n",
       "4        SEINE-MARITIME             NORMANDIE          28   \n",
       "\n",
       "                       COORDONNEES_GPS  \n",
       "0          47.05980143,-0.795548412055  \n",
       "1          45.4301235512,4.37913997076  \n",
       "2        43.3796823116,-0.366642676872  \n",
       "3  44.92997027718649, 4.89887402208982  \n",
       "4          49.4238134718,1.06033289032  \n",
       "\n",
       "[5 rows x 22 columns]"
      ]
     },
     "execution_count": 11,
     "metadata": {},
     "output_type": "execute_result"
    }
   ],
   "source": [
    "df.head()"
   ]
  },
  {
   "cell_type": "code",
   "execution_count": 12,
   "metadata": {},
   "outputs": [
    {
     "data": {
      "text/plain": [
       "Index(['MESURE', 'MESURE_LIGHT', 'VOLET_RELANCE', 'MISE A JOUR', 'ENTREPRISE',\n",
       "       'SIREN', 'FILIÈRE', 'DESCRIPTION_PROJET', 'MONTANT_INVESTISSEMENT',\n",
       "       'MONTANT_PARTICIPATION_ETAT', 'TYPE_ENTREPRISE', 'EMPLOIS_CREES',\n",
       "       'EMPLOIS_CONFORTES', 'TONNES EQUIVALENT CO2', 'CODE_POSTAL', 'ERREUR',\n",
       "       'NOM_COMMUNE', 'CODE_DEPARTEMENT', 'NOM_DEPARTEMENT', 'NOM_REGION',\n",
       "       'CODE_REGION', 'COORDONNEES_GPS'],\n",
       "      dtype='object')"
      ]
     },
     "execution_count": 12,
     "metadata": {},
     "output_type": "execute_result"
    }
   ],
   "source": [
    "df.columns"
   ]
  },
  {
   "cell_type": "code",
   "execution_count": 13,
   "metadata": {},
   "outputs": [
    {
     "data": {
      "text/plain": [
       "MESURE                                object\n",
       "MESURE_LIGHT                          object\n",
       "VOLET_RELANCE                         object\n",
       "MISE A JOUR                   datetime64[ns]\n",
       "ENTREPRISE                            object\n",
       "SIREN                                  int64\n",
       "FILIÈRE                               object\n",
       "DESCRIPTION_PROJET                    object\n",
       "MONTANT_INVESTISSEMENT               float64\n",
       "MONTANT_PARTICIPATION_ETAT           float64\n",
       "TYPE_ENTREPRISE                       object\n",
       "EMPLOIS_CREES                        float64\n",
       "EMPLOIS_CONFORTES                    float64\n",
       "TONNES EQUIVALENT CO2                float64\n",
       "CODE_POSTAL                          float64\n",
       "ERREUR                                object\n",
       "NOM_COMMUNE                           object\n",
       "CODE_DEPARTEMENT                      object\n",
       "NOM_DEPARTEMENT                       object\n",
       "NOM_REGION                            object\n",
       "CODE_REGION                            int64\n",
       "COORDONNEES_GPS                       object\n",
       "dtype: object"
      ]
     },
     "execution_count": 13,
     "metadata": {},
     "output_type": "execute_result"
    }
   ],
   "source": [
    "df.dtypes"
   ]
  },
  {
   "cell_type": "code",
   "execution_count": 14,
   "metadata": {},
   "outputs": [],
   "source": [
    "str_col_to_clean = [\"CODE_REGION\", \"CODE_DEPARTEMENT\", \"TYPE_ENTREPRISE\", \"MESURE\", \"FILIÈRE\"]"
   ]
  },
  {
   "cell_type": "code",
   "execution_count": 15,
   "metadata": {},
   "outputs": [],
   "source": [
    "for col in str_col_to_clean:\n",
    "    df[col] = df[col].astype(str).str.strip()"
   ]
  },
  {
   "cell_type": "code",
   "execution_count": 16,
   "metadata": {},
   "outputs": [
    {
     "data": {
      "text/plain": [
       "array(['49', '42', '64', '26', '76', '91', '77', '28', '74', '80', '5',\n",
       "       '82', '93', '35', '22', '78', '88', '67', '65', '9', '24', '72',\n",
       "       '31', '44', '1', '2A', '51', '53', '71', '13', '95', '52', '84',\n",
       "       '18', '33', '69', '38', '46', '59', '50', '83', '47', '36', '37',\n",
       "       '17', '63', '86', '32', '57', '73', '60', '81', '25', '27', '58',\n",
       "       '39', '85', '34', '40', '94', '41', '75', '61', '7', '11', '6',\n",
       "       '56', '19', '21', '90', '92', '45', '79', '14', '62', '16', '23',\n",
       "       '54', '3', '29', '8', '2', '30', '48', '68', '70', '87', '12',\n",
       "       '89', '10', '55', '43', '4', '15', '2B', '66', '971', '972', '973',\n",
       "       '974', 'nan'], dtype=object)"
      ]
     },
     "execution_count": 16,
     "metadata": {},
     "output_type": "execute_result"
    }
   ],
   "source": [
    "df.CODE_DEPARTEMENT.unique()"
   ]
  },
  {
   "cell_type": "code",
   "execution_count": 17,
   "metadata": {},
   "outputs": [],
   "source": [
    "col = \"CODE_REGION\"\n",
    "df[col] = df[col].str.split(\".\").apply(lambda x: x[0])"
   ]
  },
  {
   "cell_type": "code",
   "execution_count": 18,
   "metadata": {},
   "outputs": [
    {
     "data": {
      "text/plain": [
       "array(['52', '84', '75', '28', '11', '24', '32', '93', '76', '53', '44',\n",
       "       '94', '27', '77', '1', '2', '3', '4'], dtype=object)"
      ]
     },
     "execution_count": 18,
     "metadata": {},
     "output_type": "execute_result"
    }
   ],
   "source": [
    "df.CODE_REGION.unique()"
   ]
  },
  {
   "cell_type": "code",
   "execution_count": 19,
   "metadata": {},
   "outputs": [],
   "source": [
    "col_to_clean = [\"MONTANT_INVESTISSEMENT\", \"MONTANT_PARTICIPATION_ETAT\", \"TONNES EQUIVALENT CO2\"]"
   ]
  },
  {
   "cell_type": "code",
   "execution_count": 20,
   "metadata": {},
   "outputs": [],
   "source": [
    "for col in col_to_clean:\n",
    "    df[col] = df[col].astype(str)\n",
    "    df[col] = df[col].apply(lambda x: x.replace('\\xa0', ''))\n",
    "    df[col] = df[col].apply(lambda x: x.replace(',', '.'))"
   ]
  },
  {
   "cell_type": "code",
   "execution_count": 21,
   "metadata": {},
   "outputs": [],
   "source": [
    "df.MONTANT_INVESTISSEMENT = df.MONTANT_INVESTISSEMENT.astype(float)\n",
    "df.MONTANT_PARTICIPATION_ETAT = df.MONTANT_PARTICIPATION_ETAT.astype(float)\n",
    "df.EMPLOIS_CREES = df.EMPLOIS_CREES.astype(float)\n",
    "#df.EMPLOIS_CONFORTES = df.EMPLOIS_CONFORTES.astype(float)"
   ]
  },
  {
   "cell_type": "code",
   "execution_count": 22,
   "metadata": {},
   "outputs": [],
   "source": [
    "col_to_upper = [\"MESURE\", \"FILIÈRE\", \"TYPE_ENTREPRISE\"]\n",
    "for col in col_to_upper:\n",
    "    df[col] = df[col].astype(str).str.upper()"
   ]
  },
  {
   "cell_type": "code",
   "execution_count": 36,
   "metadata": {},
   "outputs": [
    {
     "data": {
      "text/plain": [
       "RangeIndex(start=0, stop=1219, step=1)"
      ]
     },
     "execution_count": 36,
     "metadata": {},
     "output_type": "execute_result"
    }
   ],
   "source": [
    "df.index"
   ]
  },
  {
   "cell_type": "code",
   "execution_count": 23,
   "metadata": {},
   "outputs": [
    {
     "data": {
      "text/html": [
       "<div>\n",
       "<style scoped>\n",
       "    .dataframe tbody tr th:only-of-type {\n",
       "        vertical-align: middle;\n",
       "    }\n",
       "\n",
       "    .dataframe tbody tr th {\n",
       "        vertical-align: top;\n",
       "    }\n",
       "\n",
       "    .dataframe thead th {\n",
       "        text-align: right;\n",
       "    }\n",
       "</style>\n",
       "<table border=\"1\" class=\"dataframe\">\n",
       "  <thead>\n",
       "    <tr style=\"text-align: right;\">\n",
       "      <th></th>\n",
       "      <th>MESURE</th>\n",
       "      <th>MESURE_LIGHT</th>\n",
       "      <th>VOLET_RELANCE</th>\n",
       "      <th>MISE A JOUR</th>\n",
       "      <th>ENTREPRISE</th>\n",
       "      <th>SIREN</th>\n",
       "      <th>FILIÈRE</th>\n",
       "      <th>DESCRIPTION_PROJET</th>\n",
       "      <th>MONTANT_INVESTISSEMENT</th>\n",
       "      <th>MONTANT_PARTICIPATION_ETAT</th>\n",
       "      <th>...</th>\n",
       "      <th>EMPLOIS_CONFORTES</th>\n",
       "      <th>TONNES EQUIVALENT CO2</th>\n",
       "      <th>CODE_POSTAL</th>\n",
       "      <th>ERREUR</th>\n",
       "      <th>NOM_COMMUNE</th>\n",
       "      <th>CODE_DEPARTEMENT</th>\n",
       "      <th>NOM_DEPARTEMENT</th>\n",
       "      <th>NOM_REGION</th>\n",
       "      <th>CODE_REGION</th>\n",
       "      <th>COORDONNEES_GPS</th>\n",
       "    </tr>\n",
       "  </thead>\n",
       "  <tbody>\n",
       "    <tr>\n",
       "      <th>0</th>\n",
       "      <td>MODERNISATION DE LA FILIÈRE AÉRONAUTIQUE</td>\n",
       "      <td>Aéronautique</td>\n",
       "      <td>Verdissement</td>\n",
       "      <td>2021-02-10</td>\n",
       "      <td>AEQUS AEROSPACE CHOLET</td>\n",
       "      <td>73201097</td>\n",
       "      <td>AÉRONAUTIQUE</td>\n",
       "      <td>Aequs est spécialisée dans les ensembles de pi...</td>\n",
       "      <td>3538000.0</td>\n",
       "      <td>800000.0</td>\n",
       "      <td>...</td>\n",
       "      <td>NaN</td>\n",
       "      <td>nan</td>\n",
       "      <td>49280.0</td>\n",
       "      <td>NaN</td>\n",
       "      <td>MAZIÈRES-EN-MAUGES</td>\n",
       "      <td>49</td>\n",
       "      <td>MAINE-ET-LOIRE</td>\n",
       "      <td>PAYS DE LA LOIRE</td>\n",
       "      <td>52</td>\n",
       "      <td>47.05980143,-0.795548412055</td>\n",
       "    </tr>\n",
       "    <tr>\n",
       "      <th>1</th>\n",
       "      <td>MODERNISATION DE LA FILIÈRE AÉRONAUTIQUE</td>\n",
       "      <td>Aéronautique</td>\n",
       "      <td>Verdissement</td>\n",
       "      <td>2021-02-10</td>\n",
       "      <td>TIVOLY</td>\n",
       "      <td>76120021</td>\n",
       "      <td>AÉRONAUTIQUE</td>\n",
       "      <td>TIVOLY SA fournit des solutions d’usinage (out...</td>\n",
       "      <td>3051160.0</td>\n",
       "      <td>1153656.0</td>\n",
       "      <td>...</td>\n",
       "      <td>NaN</td>\n",
       "      <td>nan</td>\n",
       "      <td>42100.0</td>\n",
       "      <td>NaN</td>\n",
       "      <td>SAINT-ETIENNE</td>\n",
       "      <td>42</td>\n",
       "      <td>LOIRE</td>\n",
       "      <td>AUVERGNE-RHÔNE-ALPES</td>\n",
       "      <td>84</td>\n",
       "      <td>45.4301235512,4.37913997076</td>\n",
       "    </tr>\n",
       "    <tr>\n",
       "      <th>2</th>\n",
       "      <td>MODERNISATION DE LA FILIÈRE AÉRONAUTIQUE</td>\n",
       "      <td>Aéronautique</td>\n",
       "      <td>Verdissement</td>\n",
       "      <td>2021-02-10</td>\n",
       "      <td>EXAMECA</td>\n",
       "      <td>97180509</td>\n",
       "      <td>AÉRONAUTIQUE</td>\n",
       "      <td>EXAMECA fait partie du groupe AD Industries, s...</td>\n",
       "      <td>1616400.0</td>\n",
       "      <td>800000.0</td>\n",
       "      <td>...</td>\n",
       "      <td>NaN</td>\n",
       "      <td>nan</td>\n",
       "      <td>64121.0</td>\n",
       "      <td>NaN</td>\n",
       "      <td>SERRES-CASTET</td>\n",
       "      <td>64</td>\n",
       "      <td>PYRÉNÉES-ATLANTIQUES</td>\n",
       "      <td>NOUVELLE-AQUITAINE</td>\n",
       "      <td>75</td>\n",
       "      <td>43.3796823116,-0.366642676872</td>\n",
       "    </tr>\n",
       "    <tr>\n",
       "      <th>3</th>\n",
       "      <td>MODERNISATION DE LA FILIÈRE AÉRONAUTIQUE</td>\n",
       "      <td>Aéronautique</td>\n",
       "      <td>Verdissement</td>\n",
       "      <td>2021-02-10</td>\n",
       "      <td>PRECIDELTA</td>\n",
       "      <td>300427929</td>\n",
       "      <td>AÉRONAUTIQUE</td>\n",
       "      <td>PRECIDELTA  est une PME  située dans la drome ...</td>\n",
       "      <td>200910.0</td>\n",
       "      <td>160728.0</td>\n",
       "      <td>...</td>\n",
       "      <td>NaN</td>\n",
       "      <td>nan</td>\n",
       "      <td>26000.0</td>\n",
       "      <td>NaN</td>\n",
       "      <td>VALENCE</td>\n",
       "      <td>26</td>\n",
       "      <td>DRÔME</td>\n",
       "      <td>AUVERGNE-RHÔNE-ALPES</td>\n",
       "      <td>84</td>\n",
       "      <td>44.92997027718649, 4.89887402208982</td>\n",
       "    </tr>\n",
       "    <tr>\n",
       "      <th>4</th>\n",
       "      <td>MODERNISATION DE LA FILIÈRE AÉRONAUTIQUE</td>\n",
       "      <td>Aéronautique</td>\n",
       "      <td>Verdissement</td>\n",
       "      <td>2021-02-10</td>\n",
       "      <td>RESSORTS MASSELIN</td>\n",
       "      <td>300773603</td>\n",
       "      <td>AÉRONAUTIQUE</td>\n",
       "      <td>Ressorts Masselin est un groupe familial et in...</td>\n",
       "      <td>954543.0</td>\n",
       "      <td>763634.0</td>\n",
       "      <td>...</td>\n",
       "      <td>NaN</td>\n",
       "      <td>nan</td>\n",
       "      <td>76140.0</td>\n",
       "      <td>NaN</td>\n",
       "      <td>LE PETIT-QUEVILLY</td>\n",
       "      <td>76</td>\n",
       "      <td>SEINE-MARITIME</td>\n",
       "      <td>NORMANDIE</td>\n",
       "      <td>28</td>\n",
       "      <td>49.4238134718,1.06033289032</td>\n",
       "    </tr>\n",
       "  </tbody>\n",
       "</table>\n",
       "<p>5 rows × 22 columns</p>\n",
       "</div>"
      ],
      "text/plain": [
       "                                     MESURE  MESURE_LIGHT VOLET_RELANCE  \\\n",
       "0  MODERNISATION DE LA FILIÈRE AÉRONAUTIQUE  Aéronautique  Verdissement   \n",
       "1  MODERNISATION DE LA FILIÈRE AÉRONAUTIQUE  Aéronautique  Verdissement   \n",
       "2  MODERNISATION DE LA FILIÈRE AÉRONAUTIQUE  Aéronautique  Verdissement   \n",
       "3  MODERNISATION DE LA FILIÈRE AÉRONAUTIQUE  Aéronautique  Verdissement   \n",
       "4  MODERNISATION DE LA FILIÈRE AÉRONAUTIQUE  Aéronautique  Verdissement   \n",
       "\n",
       "  MISE A JOUR              ENTREPRISE      SIREN       FILIÈRE  \\\n",
       "0  2021-02-10  AEQUS AEROSPACE CHOLET   73201097  AÉRONAUTIQUE   \n",
       "1  2021-02-10                  TIVOLY   76120021  AÉRONAUTIQUE   \n",
       "2  2021-02-10                 EXAMECA   97180509  AÉRONAUTIQUE   \n",
       "3  2021-02-10              PRECIDELTA  300427929  AÉRONAUTIQUE   \n",
       "4  2021-02-10       RESSORTS MASSELIN  300773603  AÉRONAUTIQUE   \n",
       "\n",
       "                                  DESCRIPTION_PROJET  MONTANT_INVESTISSEMENT  \\\n",
       "0  Aequs est spécialisée dans les ensembles de pi...               3538000.0   \n",
       "1  TIVOLY SA fournit des solutions d’usinage (out...               3051160.0   \n",
       "2  EXAMECA fait partie du groupe AD Industries, s...               1616400.0   \n",
       "3  PRECIDELTA  est une PME  située dans la drome ...                200910.0   \n",
       "4  Ressorts Masselin est un groupe familial et in...                954543.0   \n",
       "\n",
       "   MONTANT_PARTICIPATION_ETAT  ... EMPLOIS_CONFORTES  TONNES EQUIVALENT CO2  \\\n",
       "0                    800000.0  ...               NaN                    nan   \n",
       "1                   1153656.0  ...               NaN                    nan   \n",
       "2                    800000.0  ...               NaN                    nan   \n",
       "3                    160728.0  ...               NaN                    nan   \n",
       "4                    763634.0  ...               NaN                    nan   \n",
       "\n",
       "   CODE_POSTAL ERREUR         NOM_COMMUNE CODE_DEPARTEMENT  \\\n",
       "0      49280.0    NaN  MAZIÈRES-EN-MAUGES               49   \n",
       "1      42100.0    NaN       SAINT-ETIENNE               42   \n",
       "2      64121.0    NaN       SERRES-CASTET               64   \n",
       "3      26000.0    NaN             VALENCE               26   \n",
       "4      76140.0    NaN   LE PETIT-QUEVILLY               76   \n",
       "\n",
       "        NOM_DEPARTEMENT            NOM_REGION CODE_REGION  \\\n",
       "0        MAINE-ET-LOIRE      PAYS DE LA LOIRE          52   \n",
       "1                 LOIRE  AUVERGNE-RHÔNE-ALPES          84   \n",
       "2  PYRÉNÉES-ATLANTIQUES    NOUVELLE-AQUITAINE          75   \n",
       "3                 DRÔME  AUVERGNE-RHÔNE-ALPES          84   \n",
       "4        SEINE-MARITIME             NORMANDIE          28   \n",
       "\n",
       "                       COORDONNEES_GPS  \n",
       "0          47.05980143,-0.795548412055  \n",
       "1          45.4301235512,4.37913997076  \n",
       "2        43.3796823116,-0.366642676872  \n",
       "3  44.92997027718649, 4.89887402208982  \n",
       "4          49.4238134718,1.06033289032  \n",
       "\n",
       "[5 rows x 22 columns]"
      ]
     },
     "execution_count": 23,
     "metadata": {},
     "output_type": "execute_result"
    }
   ],
   "source": [
    "df.head()"
   ]
  },
  {
   "cell_type": "code",
   "execution_count": 48,
   "metadata": {},
   "outputs": [],
   "source": [
    "df.to_csv(path_or_buf=\"/home/guillaume/Documents/secret_stat/test/dataframe.csv\", sep=\"|\")"
   ]
  },
  {
   "cell_type": "code",
   "execution_count": 47,
   "metadata": {},
   "outputs": [
    {
     "data": {
      "text/plain": [
       "Index(['MESURE', 'MESURE_LIGHT', 'VOLET_RELANCE', 'MISE A JOUR', 'ENTREPRISE',\n",
       "       'SIREN', 'FILIÈRE', 'DESCRIPTION_PROJET', 'MONTANT_INVESTISSEMENT',\n",
       "       'MONTANT_PARTICIPATION_ETAT', 'TYPE_ENTREPRISE', 'EMPLOIS_CREES',\n",
       "       'EMPLOIS_CONFORTES', 'TONNES EQUIVALENT CO2', 'CODE_POSTAL', 'ERREUR',\n",
       "       'NOM_COMMUNE', 'CODE_DEPARTEMENT', 'NOM_DEPARTEMENT', 'NOM_REGION',\n",
       "       'CODE_REGION', 'COORDONNEES_GPS'],\n",
       "      dtype='object')"
      ]
     },
     "execution_count": 47,
     "metadata": {},
     "output_type": "execute_result"
    }
   ],
   "source": [
    "df.columns"
   ]
  },
  {
   "cell_type": "code",
   "execution_count": 50,
   "metadata": {},
   "outputs": [
    {
     "ename": "ValueError",
     "evalue": "cannot reindex from a duplicate axis",
     "output_type": "error",
     "traceback": [
      "\u001b[0;31m---------------------------------------------------------------------------\u001b[0m",
      "\u001b[0;31mValueError\u001b[0m                                Traceback (most recent call last)",
      "\u001b[0;32m<ipython-input-50-92dde4686254>\u001b[0m in \u001b[0;36m<module>\u001b[0;34m\u001b[0m\n\u001b[1;32m      6\u001b[0m ]\n\u001b[1;32m      7\u001b[0m \u001b[0;34m\u001b[0m\u001b[0m\n\u001b[0;32m----> 8\u001b[0;31m x = apply_secret_stat(dataframe=df,\n\u001b[0m\u001b[1;32m      9\u001b[0m                       \u001b[0mcolumns_to_check\u001b[0m\u001b[0;34m=\u001b[0m\u001b[0mcol_secret\u001b[0m\u001b[0;34m,\u001b[0m\u001b[0;34m\u001b[0m\u001b[0;34m\u001b[0m\u001b[0m\n\u001b[1;32m     10\u001b[0m                       list_aggregation=gb)\n",
      "\u001b[0;32m~/Documents/secret_stat/main.py\u001b[0m in \u001b[0;36mapply_secret_stat\u001b[0;34m(dataframe, columns_to_check, list_aggregation, dominance, frequence)\u001b[0m\n\u001b[1;32m     11\u001b[0m     \u001b[0mspecific_aggregator\u001b[0m \u001b[0;34m=\u001b[0m \u001b[0mVersion4SafeAggregation\u001b[0m\u001b[0;34m(\u001b[0m\u001b[0mdataframe\u001b[0m\u001b[0;34m,\u001b[0m \u001b[0mcolumns_to_check\u001b[0m\u001b[0;34m,\u001b[0m \u001b[0mlist_aggregation\u001b[0m\u001b[0;34m,\u001b[0m \u001b[0mdominance\u001b[0m\u001b[0;34m,\u001b[0m \u001b[0mfrequence\u001b[0m\u001b[0;34m)\u001b[0m\u001b[0;34m\u001b[0m\u001b[0;34m\u001b[0m\u001b[0m\n\u001b[1;32m     12\u001b[0m \u001b[0;34m\u001b[0m\u001b[0m\n\u001b[0;32m---> 13\u001b[0;31m     \u001b[0mfinal_masked_dict\u001b[0m \u001b[0;34m=\u001b[0m \u001b[0mspecific_aggregator\u001b[0m\u001b[0;34m.\u001b[0m\u001b[0maggregateFactory\u001b[0m\u001b[0;34m(\u001b[0m\u001b[0;34m)\u001b[0m\u001b[0;34m\u001b[0m\u001b[0;34m\u001b[0m\u001b[0m\n\u001b[0m\u001b[1;32m     14\u001b[0m \u001b[0;34m\u001b[0m\u001b[0m\n\u001b[1;32m     15\u001b[0m     \u001b[0;32mreturn\u001b[0m \u001b[0mfinal_masked_dict\u001b[0m\u001b[0;34m\u001b[0m\u001b[0;34m\u001b[0m\u001b[0m\n",
      "\u001b[0;32m~/Documents/secret_stat/aggregation.py\u001b[0m in \u001b[0;36maggregateFactory\u001b[0;34m(self)\u001b[0m\n\u001b[1;32m     28\u001b[0m         \u001b[0mdict_df\u001b[0m \u001b[0;34m=\u001b[0m \u001b[0;34m{\u001b[0m\u001b[0;34m}\u001b[0m\u001b[0;34m\u001b[0m\u001b[0;34m\u001b[0m\u001b[0m\n\u001b[1;32m     29\u001b[0m         \u001b[0;32mfor\u001b[0m \u001b[0mgb_key\u001b[0m \u001b[0;32min\u001b[0m \u001b[0mself\u001b[0m\u001b[0;34m.\u001b[0m\u001b[0mgroup_by\u001b[0m\u001b[0;34m:\u001b[0m\u001b[0;34m\u001b[0m\u001b[0;34m\u001b[0m\u001b[0m\n\u001b[0;32m---> 30\u001b[0;31m             \u001b[0mdict_df\u001b[0m\u001b[0;34m[\u001b[0m\u001b[0mtuple\u001b[0m\u001b[0;34m(\u001b[0m\u001b[0mgb_key\u001b[0m\u001b[0;34m)\u001b[0m\u001b[0;34m]\u001b[0m \u001b[0;34m=\u001b[0m \u001b[0;34m(\u001b[0m\u001b[0mself\u001b[0m\u001b[0;34m.\u001b[0m\u001b[0msafe_aggregate\u001b[0m\u001b[0;34m(\u001b[0m\u001b[0mself\u001b[0m\u001b[0;34m.\u001b[0m\u001b[0mdataframe\u001b[0m\u001b[0;34m,\u001b[0m \u001b[0mgb_key\u001b[0m\u001b[0;34m)\u001b[0m\u001b[0;34m)\u001b[0m\u001b[0;34m\u001b[0m\u001b[0;34m\u001b[0m\u001b[0m\n\u001b[0m\u001b[1;32m     31\u001b[0m \u001b[0;34m\u001b[0m\u001b[0m\n\u001b[1;32m     32\u001b[0m         \u001b[0;32mreturn\u001b[0m \u001b[0mdict_df\u001b[0m\u001b[0;34m\u001b[0m\u001b[0;34m\u001b[0m\u001b[0m\n",
      "\u001b[0;32m~/Documents/secret_stat/aggregation.py\u001b[0m in \u001b[0;36msafe_aggregate\u001b[0;34m(self, df, gb_keys)\u001b[0m\n\u001b[1;32m     36\u001b[0m         \u001b[0maggregated_df_3D\u001b[0m \u001b[0;34m=\u001b[0m \u001b[0mdf\u001b[0m\u001b[0;34m.\u001b[0m\u001b[0mgroupby\u001b[0m\u001b[0;34m(\u001b[0m\u001b[0mgb_keys\u001b[0m\u001b[0;34m,\u001b[0m \u001b[0mas_index\u001b[0m\u001b[0;34m=\u001b[0m\u001b[0;32mTrue\u001b[0m\u001b[0;34m)\u001b[0m\u001b[0;34m.\u001b[0m\u001b[0magg\u001b[0m\u001b[0;34m(\u001b[0m\u001b[0mself\u001b[0m\u001b[0;34m.\u001b[0m\u001b[0mdict_aggreg\u001b[0m\u001b[0;34m)\u001b[0m\u001b[0;34m.\u001b[0m\u001b[0mreset_index\u001b[0m\u001b[0;34m(\u001b[0m\u001b[0mdrop\u001b[0m\u001b[0;34m=\u001b[0m\u001b[0;32mTrue\u001b[0m\u001b[0;34m)\u001b[0m\u001b[0;34m\u001b[0m\u001b[0;34m\u001b[0m\u001b[0m\n\u001b[1;32m     37\u001b[0m         \u001b[0maggregated_df\u001b[0m \u001b[0;34m=\u001b[0m \u001b[0mself\u001b[0m\u001b[0;34m.\u001b[0m\u001b[0mdataframe_3D_to_2D\u001b[0m\u001b[0;34m(\u001b[0m\u001b[0maggregated_df_3D\u001b[0m\u001b[0;34m)\u001b[0m\u001b[0;34m\u001b[0m\u001b[0;34m\u001b[0m\u001b[0m\n\u001b[0;32m---> 38\u001b[0;31m         \u001b[0msafe_df\u001b[0m \u001b[0;34m=\u001b[0m \u001b[0mself\u001b[0m\u001b[0;34m.\u001b[0m\u001b[0mcheck_secret\u001b[0m\u001b[0;34m(\u001b[0m\u001b[0maggregated_df\u001b[0m\u001b[0;34m,\u001b[0m \u001b[0mgb_keys\u001b[0m\u001b[0;34m)\u001b[0m\u001b[0;34m\u001b[0m\u001b[0;34m\u001b[0m\u001b[0m\n\u001b[0m\u001b[1;32m     39\u001b[0m         \u001b[0;32mreturn\u001b[0m \u001b[0msafe_df\u001b[0m\u001b[0;34m\u001b[0m\u001b[0;34m\u001b[0m\u001b[0m\n\u001b[1;32m     40\u001b[0m \u001b[0;34m\u001b[0m\u001b[0m\n",
      "\u001b[0;32m~/Documents/secret_stat/aggregation.py\u001b[0m in \u001b[0;36mcheck_secret\u001b[0;34m(self, df, gb_key)\u001b[0m\n\u001b[1;32m     54\u001b[0m     \u001b[0;32mdef\u001b[0m \u001b[0mcheck_secret\u001b[0m\u001b[0;34m(\u001b[0m\u001b[0mself\u001b[0m\u001b[0;34m,\u001b[0m \u001b[0mdf\u001b[0m\u001b[0;34m:\u001b[0m \u001b[0mpd\u001b[0m\u001b[0;34m.\u001b[0m\u001b[0mDataFrame\u001b[0m\u001b[0;34m,\u001b[0m \u001b[0mgb_key\u001b[0m\u001b[0;34m:\u001b[0m \u001b[0mlist\u001b[0m\u001b[0;34m)\u001b[0m \u001b[0;34m->\u001b[0m \u001b[0mpd\u001b[0m\u001b[0;34m.\u001b[0m\u001b[0mDataFrame\u001b[0m\u001b[0;34m:\u001b[0m\u001b[0;34m\u001b[0m\u001b[0;34m\u001b[0m\u001b[0m\n\u001b[1;32m     55\u001b[0m         \u001b[0mdf_gb_key_keep\u001b[0m \u001b[0;34m=\u001b[0m \u001b[0mdf\u001b[0m\u001b[0;34m.\u001b[0m\u001b[0mcopy\u001b[0m\u001b[0;34m(\u001b[0m\u001b[0;34m)\u001b[0m\u001b[0;34m\u001b[0m\u001b[0;34m\u001b[0m\u001b[0m\n\u001b[0;32m---> 56\u001b[0;31m         \u001b[0mdf_gb_key_keep\u001b[0m \u001b[0;34m=\u001b[0m \u001b[0mdf_gb_key_keep\u001b[0m\u001b[0;34m.\u001b[0m\u001b[0mfilter\u001b[0m\u001b[0;34m(\u001b[0m\u001b[0mgb_key\u001b[0m\u001b[0;34m)\u001b[0m\u001b[0;34m\u001b[0m\u001b[0;34m\u001b[0m\u001b[0m\n\u001b[0m\u001b[1;32m     57\u001b[0m         \u001b[0;32mfor\u001b[0m \u001b[0mcol_secret\u001b[0m \u001b[0;32min\u001b[0m \u001b[0mself\u001b[0m\u001b[0;34m.\u001b[0m\u001b[0mcolumns_to_check\u001b[0m\u001b[0;34m:\u001b[0m\u001b[0;34m\u001b[0m\u001b[0;34m\u001b[0m\u001b[0m\n\u001b[1;32m     58\u001b[0m             \u001b[0mdf\u001b[0m \u001b[0;34m=\u001b[0m \u001b[0mself\u001b[0m\u001b[0;34m.\u001b[0m\u001b[0mcheck_max_percent\u001b[0m\u001b[0;34m(\u001b[0m\u001b[0mdf\u001b[0m\u001b[0;34m,\u001b[0m \u001b[0mcol_secret\u001b[0m\u001b[0;34m)\u001b[0m\u001b[0;34m\u001b[0m\u001b[0;34m\u001b[0m\u001b[0m\n",
      "\u001b[0;32m~/anaconda3/lib/python3.8/site-packages/pandas/core/generic.py\u001b[0m in \u001b[0;36mfilter\u001b[0;34m(self, items, like, regex, axis)\u001b[0m\n\u001b[1;32m   4697\u001b[0m         \u001b[0;32mif\u001b[0m \u001b[0mitems\u001b[0m \u001b[0;32mis\u001b[0m \u001b[0;32mnot\u001b[0m \u001b[0;32mNone\u001b[0m\u001b[0;34m:\u001b[0m\u001b[0;34m\u001b[0m\u001b[0;34m\u001b[0m\u001b[0m\n\u001b[1;32m   4698\u001b[0m             \u001b[0mname\u001b[0m \u001b[0;34m=\u001b[0m \u001b[0mself\u001b[0m\u001b[0;34m.\u001b[0m\u001b[0m_get_axis_name\u001b[0m\u001b[0;34m(\u001b[0m\u001b[0maxis\u001b[0m\u001b[0;34m)\u001b[0m\u001b[0;34m\u001b[0m\u001b[0;34m\u001b[0m\u001b[0m\n\u001b[0;32m-> 4699\u001b[0;31m             \u001b[0;32mreturn\u001b[0m \u001b[0mself\u001b[0m\u001b[0;34m.\u001b[0m\u001b[0mreindex\u001b[0m\u001b[0;34m(\u001b[0m\u001b[0;34m**\u001b[0m\u001b[0;34m{\u001b[0m\u001b[0mname\u001b[0m\u001b[0;34m:\u001b[0m \u001b[0;34m[\u001b[0m\u001b[0mr\u001b[0m \u001b[0;32mfor\u001b[0m \u001b[0mr\u001b[0m \u001b[0;32min\u001b[0m \u001b[0mitems\u001b[0m \u001b[0;32mif\u001b[0m \u001b[0mr\u001b[0m \u001b[0;32min\u001b[0m \u001b[0mlabels\u001b[0m\u001b[0;34m]\u001b[0m\u001b[0;34m}\u001b[0m\u001b[0;34m)\u001b[0m\u001b[0;34m\u001b[0m\u001b[0;34m\u001b[0m\u001b[0m\n\u001b[0m\u001b[1;32m   4700\u001b[0m         \u001b[0;32melif\u001b[0m \u001b[0mlike\u001b[0m\u001b[0;34m:\u001b[0m\u001b[0;34m\u001b[0m\u001b[0;34m\u001b[0m\u001b[0m\n\u001b[1;32m   4701\u001b[0m \u001b[0;34m\u001b[0m\u001b[0m\n",
      "\u001b[0;32m~/anaconda3/lib/python3.8/site-packages/pandas/util/_decorators.py\u001b[0m in \u001b[0;36mwrapper\u001b[0;34m(*args, **kwargs)\u001b[0m\n\u001b[1;32m    225\u001b[0m         \u001b[0;34m@\u001b[0m\u001b[0mwraps\u001b[0m\u001b[0;34m(\u001b[0m\u001b[0mfunc\u001b[0m\u001b[0;34m)\u001b[0m\u001b[0;34m\u001b[0m\u001b[0;34m\u001b[0m\u001b[0m\n\u001b[1;32m    226\u001b[0m         \u001b[0;32mdef\u001b[0m \u001b[0mwrapper\u001b[0m\u001b[0;34m(\u001b[0m\u001b[0;34m*\u001b[0m\u001b[0margs\u001b[0m\u001b[0;34m,\u001b[0m \u001b[0;34m**\u001b[0m\u001b[0mkwargs\u001b[0m\u001b[0;34m)\u001b[0m \u001b[0;34m->\u001b[0m \u001b[0mCallable\u001b[0m\u001b[0;34m[\u001b[0m\u001b[0;34m...\u001b[0m\u001b[0;34m,\u001b[0m \u001b[0mAny\u001b[0m\u001b[0;34m]\u001b[0m\u001b[0;34m:\u001b[0m\u001b[0;34m\u001b[0m\u001b[0;34m\u001b[0m\u001b[0m\n\u001b[0;32m--> 227\u001b[0;31m             \u001b[0;32mreturn\u001b[0m \u001b[0mfunc\u001b[0m\u001b[0;34m(\u001b[0m\u001b[0;34m*\u001b[0m\u001b[0margs\u001b[0m\u001b[0;34m,\u001b[0m \u001b[0;34m**\u001b[0m\u001b[0mkwargs\u001b[0m\u001b[0;34m)\u001b[0m\u001b[0;34m\u001b[0m\u001b[0;34m\u001b[0m\u001b[0m\n\u001b[0m\u001b[1;32m    228\u001b[0m \u001b[0;34m\u001b[0m\u001b[0m\n\u001b[1;32m    229\u001b[0m         \u001b[0mkind\u001b[0m \u001b[0;34m=\u001b[0m \u001b[0minspect\u001b[0m\u001b[0;34m.\u001b[0m\u001b[0mParameter\u001b[0m\u001b[0;34m.\u001b[0m\u001b[0mPOSITIONAL_OR_KEYWORD\u001b[0m\u001b[0;34m\u001b[0m\u001b[0;34m\u001b[0m\u001b[0m\n",
      "\u001b[0;32m~/anaconda3/lib/python3.8/site-packages/pandas/core/frame.py\u001b[0m in \u001b[0;36mreindex\u001b[0;34m(self, *args, **kwargs)\u001b[0m\n\u001b[1;32m   3854\u001b[0m         \u001b[0mkwargs\u001b[0m\u001b[0;34m.\u001b[0m\u001b[0mpop\u001b[0m\u001b[0;34m(\u001b[0m\u001b[0;34m\"axis\"\u001b[0m\u001b[0;34m,\u001b[0m \u001b[0;32mNone\u001b[0m\u001b[0;34m)\u001b[0m\u001b[0;34m\u001b[0m\u001b[0;34m\u001b[0m\u001b[0m\n\u001b[1;32m   3855\u001b[0m         \u001b[0mkwargs\u001b[0m\u001b[0;34m.\u001b[0m\u001b[0mpop\u001b[0m\u001b[0;34m(\u001b[0m\u001b[0;34m\"labels\"\u001b[0m\u001b[0;34m,\u001b[0m \u001b[0;32mNone\u001b[0m\u001b[0;34m)\u001b[0m\u001b[0;34m\u001b[0m\u001b[0;34m\u001b[0m\u001b[0m\n\u001b[0;32m-> 3856\u001b[0;31m         \u001b[0;32mreturn\u001b[0m \u001b[0msuper\u001b[0m\u001b[0;34m(\u001b[0m\u001b[0;34m)\u001b[0m\u001b[0;34m.\u001b[0m\u001b[0mreindex\u001b[0m\u001b[0;34m(\u001b[0m\u001b[0;34m**\u001b[0m\u001b[0mkwargs\u001b[0m\u001b[0;34m)\u001b[0m\u001b[0;34m\u001b[0m\u001b[0;34m\u001b[0m\u001b[0m\n\u001b[0m\u001b[1;32m   3857\u001b[0m \u001b[0;34m\u001b[0m\u001b[0m\n\u001b[1;32m   3858\u001b[0m     def drop(\n",
      "\u001b[0;32m~/anaconda3/lib/python3.8/site-packages/pandas/core/generic.py\u001b[0m in \u001b[0;36mreindex\u001b[0;34m(self, *args, **kwargs)\u001b[0m\n\u001b[1;32m   4541\u001b[0m \u001b[0;34m\u001b[0m\u001b[0m\n\u001b[1;32m   4542\u001b[0m         \u001b[0;31m# perform the reindex on the axes\u001b[0m\u001b[0;34m\u001b[0m\u001b[0;34m\u001b[0m\u001b[0;34m\u001b[0m\u001b[0m\n\u001b[0;32m-> 4543\u001b[0;31m         return self._reindex_axes(\n\u001b[0m\u001b[1;32m   4544\u001b[0m             \u001b[0maxes\u001b[0m\u001b[0;34m,\u001b[0m \u001b[0mlevel\u001b[0m\u001b[0;34m,\u001b[0m \u001b[0mlimit\u001b[0m\u001b[0;34m,\u001b[0m \u001b[0mtolerance\u001b[0m\u001b[0;34m,\u001b[0m \u001b[0mmethod\u001b[0m\u001b[0;34m,\u001b[0m \u001b[0mfill_value\u001b[0m\u001b[0;34m,\u001b[0m \u001b[0mcopy\u001b[0m\u001b[0;34m\u001b[0m\u001b[0;34m\u001b[0m\u001b[0m\n\u001b[1;32m   4545\u001b[0m         ).__finalize__(self)\n",
      "\u001b[0;32m~/anaconda3/lib/python3.8/site-packages/pandas/core/frame.py\u001b[0m in \u001b[0;36m_reindex_axes\u001b[0;34m(self, axes, level, limit, tolerance, method, fill_value, copy)\u001b[0m\n\u001b[1;32m   3735\u001b[0m         \u001b[0mcolumns\u001b[0m \u001b[0;34m=\u001b[0m \u001b[0maxes\u001b[0m\u001b[0;34m[\u001b[0m\u001b[0;34m\"columns\"\u001b[0m\u001b[0;34m]\u001b[0m\u001b[0;34m\u001b[0m\u001b[0;34m\u001b[0m\u001b[0m\n\u001b[1;32m   3736\u001b[0m         \u001b[0;32mif\u001b[0m \u001b[0mcolumns\u001b[0m \u001b[0;32mis\u001b[0m \u001b[0;32mnot\u001b[0m \u001b[0;32mNone\u001b[0m\u001b[0;34m:\u001b[0m\u001b[0;34m\u001b[0m\u001b[0;34m\u001b[0m\u001b[0m\n\u001b[0;32m-> 3737\u001b[0;31m             frame = frame._reindex_columns(\n\u001b[0m\u001b[1;32m   3738\u001b[0m                 \u001b[0mcolumns\u001b[0m\u001b[0;34m,\u001b[0m \u001b[0mmethod\u001b[0m\u001b[0;34m,\u001b[0m \u001b[0mcopy\u001b[0m\u001b[0;34m,\u001b[0m \u001b[0mlevel\u001b[0m\u001b[0;34m,\u001b[0m \u001b[0mfill_value\u001b[0m\u001b[0;34m,\u001b[0m \u001b[0mlimit\u001b[0m\u001b[0;34m,\u001b[0m \u001b[0mtolerance\u001b[0m\u001b[0;34m\u001b[0m\u001b[0;34m\u001b[0m\u001b[0m\n\u001b[1;32m   3739\u001b[0m             )\n",
      "\u001b[0;32m~/anaconda3/lib/python3.8/site-packages/pandas/core/frame.py\u001b[0m in \u001b[0;36m_reindex_columns\u001b[0;34m(self, new_columns, method, copy, level, fill_value, limit, tolerance)\u001b[0m\n\u001b[1;32m   3780\u001b[0m             \u001b[0mnew_columns\u001b[0m\u001b[0;34m,\u001b[0m \u001b[0mmethod\u001b[0m\u001b[0;34m=\u001b[0m\u001b[0mmethod\u001b[0m\u001b[0;34m,\u001b[0m \u001b[0mlevel\u001b[0m\u001b[0;34m=\u001b[0m\u001b[0mlevel\u001b[0m\u001b[0;34m,\u001b[0m \u001b[0mlimit\u001b[0m\u001b[0;34m=\u001b[0m\u001b[0mlimit\u001b[0m\u001b[0;34m,\u001b[0m \u001b[0mtolerance\u001b[0m\u001b[0;34m=\u001b[0m\u001b[0mtolerance\u001b[0m\u001b[0;34m\u001b[0m\u001b[0;34m\u001b[0m\u001b[0m\n\u001b[1;32m   3781\u001b[0m         )\n\u001b[0;32m-> 3782\u001b[0;31m         return self._reindex_with_indexers(\n\u001b[0m\u001b[1;32m   3783\u001b[0m             \u001b[0;34m{\u001b[0m\u001b[0;36m1\u001b[0m\u001b[0;34m:\u001b[0m \u001b[0;34m[\u001b[0m\u001b[0mnew_columns\u001b[0m\u001b[0;34m,\u001b[0m \u001b[0mindexer\u001b[0m\u001b[0;34m]\u001b[0m\u001b[0;34m}\u001b[0m\u001b[0;34m,\u001b[0m\u001b[0;34m\u001b[0m\u001b[0;34m\u001b[0m\u001b[0m\n\u001b[1;32m   3784\u001b[0m             \u001b[0mcopy\u001b[0m\u001b[0;34m=\u001b[0m\u001b[0mcopy\u001b[0m\u001b[0;34m,\u001b[0m\u001b[0;34m\u001b[0m\u001b[0;34m\u001b[0m\u001b[0m\n",
      "\u001b[0;32m~/anaconda3/lib/python3.8/site-packages/pandas/core/generic.py\u001b[0m in \u001b[0;36m_reindex_with_indexers\u001b[0;34m(self, reindexers, fill_value, copy, allow_dups)\u001b[0m\n\u001b[1;32m   4605\u001b[0m \u001b[0;34m\u001b[0m\u001b[0m\n\u001b[1;32m   4606\u001b[0m             \u001b[0;31m# TODO: speed up on homogeneous DataFrame objects\u001b[0m\u001b[0;34m\u001b[0m\u001b[0;34m\u001b[0m\u001b[0;34m\u001b[0m\u001b[0m\n\u001b[0;32m-> 4607\u001b[0;31m             new_data = new_data.reindex_indexer(\n\u001b[0m\u001b[1;32m   4608\u001b[0m                 \u001b[0mindex\u001b[0m\u001b[0;34m,\u001b[0m\u001b[0;34m\u001b[0m\u001b[0;34m\u001b[0m\u001b[0m\n\u001b[1;32m   4609\u001b[0m                 \u001b[0mindexer\u001b[0m\u001b[0;34m,\u001b[0m\u001b[0;34m\u001b[0m\u001b[0;34m\u001b[0m\u001b[0m\n",
      "\u001b[0;32m~/anaconda3/lib/python3.8/site-packages/pandas/core/internals/managers.py\u001b[0m in \u001b[0;36mreindex_indexer\u001b[0;34m(self, new_axis, indexer, axis, fill_value, allow_dups, copy)\u001b[0m\n\u001b[1;32m   1249\u001b[0m         \u001b[0;31m# some axes don't allow reindexing with dups\u001b[0m\u001b[0;34m\u001b[0m\u001b[0;34m\u001b[0m\u001b[0;34m\u001b[0m\u001b[0m\n\u001b[1;32m   1250\u001b[0m         \u001b[0;32mif\u001b[0m \u001b[0;32mnot\u001b[0m \u001b[0mallow_dups\u001b[0m\u001b[0;34m:\u001b[0m\u001b[0;34m\u001b[0m\u001b[0;34m\u001b[0m\u001b[0m\n\u001b[0;32m-> 1251\u001b[0;31m             \u001b[0mself\u001b[0m\u001b[0;34m.\u001b[0m\u001b[0maxes\u001b[0m\u001b[0;34m[\u001b[0m\u001b[0maxis\u001b[0m\u001b[0;34m]\u001b[0m\u001b[0;34m.\u001b[0m\u001b[0m_can_reindex\u001b[0m\u001b[0;34m(\u001b[0m\u001b[0mindexer\u001b[0m\u001b[0;34m)\u001b[0m\u001b[0;34m\u001b[0m\u001b[0;34m\u001b[0m\u001b[0m\n\u001b[0m\u001b[1;32m   1252\u001b[0m \u001b[0;34m\u001b[0m\u001b[0m\n\u001b[1;32m   1253\u001b[0m         \u001b[0;32mif\u001b[0m \u001b[0maxis\u001b[0m \u001b[0;34m>=\u001b[0m \u001b[0mself\u001b[0m\u001b[0;34m.\u001b[0m\u001b[0mndim\u001b[0m\u001b[0;34m:\u001b[0m\u001b[0;34m\u001b[0m\u001b[0;34m\u001b[0m\u001b[0m\n",
      "\u001b[0;32m~/anaconda3/lib/python3.8/site-packages/pandas/core/indexes/base.py\u001b[0m in \u001b[0;36m_can_reindex\u001b[0;34m(self, indexer)\u001b[0m\n\u001b[1;32m   3097\u001b[0m         \u001b[0;31m# trying to reindex on an axis with duplicates\u001b[0m\u001b[0;34m\u001b[0m\u001b[0;34m\u001b[0m\u001b[0;34m\u001b[0m\u001b[0m\n\u001b[1;32m   3098\u001b[0m         \u001b[0;32mif\u001b[0m \u001b[0;32mnot\u001b[0m \u001b[0mself\u001b[0m\u001b[0;34m.\u001b[0m\u001b[0mis_unique\u001b[0m \u001b[0;32mand\u001b[0m \u001b[0mlen\u001b[0m\u001b[0;34m(\u001b[0m\u001b[0mindexer\u001b[0m\u001b[0;34m)\u001b[0m\u001b[0;34m:\u001b[0m\u001b[0;34m\u001b[0m\u001b[0;34m\u001b[0m\u001b[0m\n\u001b[0;32m-> 3099\u001b[0;31m             \u001b[0;32mraise\u001b[0m \u001b[0mValueError\u001b[0m\u001b[0;34m(\u001b[0m\u001b[0;34m\"cannot reindex from a duplicate axis\"\u001b[0m\u001b[0;34m)\u001b[0m\u001b[0;34m\u001b[0m\u001b[0;34m\u001b[0m\u001b[0m\n\u001b[0m\u001b[1;32m   3100\u001b[0m \u001b[0;34m\u001b[0m\u001b[0m\n\u001b[1;32m   3101\u001b[0m     \u001b[0;32mdef\u001b[0m \u001b[0mreindex\u001b[0m\u001b[0;34m(\u001b[0m\u001b[0mself\u001b[0m\u001b[0;34m,\u001b[0m \u001b[0mtarget\u001b[0m\u001b[0;34m,\u001b[0m \u001b[0mmethod\u001b[0m\u001b[0;34m=\u001b[0m\u001b[0;32mNone\u001b[0m\u001b[0;34m,\u001b[0m \u001b[0mlevel\u001b[0m\u001b[0;34m=\u001b[0m\u001b[0;32mNone\u001b[0m\u001b[0;34m,\u001b[0m \u001b[0mlimit\u001b[0m\u001b[0;34m=\u001b[0m\u001b[0;32mNone\u001b[0m\u001b[0;34m,\u001b[0m \u001b[0mtolerance\u001b[0m\u001b[0;34m=\u001b[0m\u001b[0;32mNone\u001b[0m\u001b[0;34m)\u001b[0m\u001b[0;34m:\u001b[0m\u001b[0;34m\u001b[0m\u001b[0;34m\u001b[0m\u001b[0m\n",
      "\u001b[0;31mValueError\u001b[0m: cannot reindex from a duplicate axis"
     ]
    }
   ],
   "source": [
    "gb = [\n",
    "    [\"CODE_REGION\", \"ENTREPRISE\"]\n",
    "]\n",
    "col_secret = [\n",
    "    \"MONTANT_INVESTISSEMENT\"\n",
    "]\n",
    "\n",
    "x = apply_secret_stat(dataframe=df,\n",
    "                      columns_to_check=col_secret,\n",
    "                      list_aggregation=gb)\n",
    "print(x)"
   ]
  },
  {
   "cell_type": "code",
   "execution_count": 39,
   "metadata": {},
   "outputs": [],
   "source": [
    "gb = [\n",
    "    (\"CODE_REGION\", \"CODE_DEPARTEMENT\"),\n",
    "    (\"CODE_REGION\", \"TYPE_ENTREPRISE\"),\n",
    "    (\"CODE_REGION\", \"MESURE\"),\n",
    "    (\"CODE_REGION\", \"FILIÈRE\"),\n",
    "    (\"MESURE\", \"FILIÈRE\"),\n",
    "    (\"MESURE\", \"TYPE_ENTREPRISE\"),\n",
    "]\n",
    "\n",
    "col_secret = [\n",
    "    \"MONTANT_INVESTISSEMENT\",\n",
    "    \"MONTANT_PARTICIPATION_ETAT\"\n",
    "]"
   ]
  },
  {
   "cell_type": "code",
   "execution_count": 31,
   "metadata": {},
   "outputs": [
    {
     "ename": "TypeError",
     "evalue": "apply_secret_stat() got an unexpected keyword argument 'group_by'",
     "output_type": "error",
     "traceback": [
      "\u001b[0;31m---------------------------------------------------------------------------\u001b[0m",
      "\u001b[0;31mTypeError\u001b[0m                                 Traceback (most recent call last)",
      "\u001b[0;32m<ipython-input-31-45b181313256>\u001b[0m in \u001b[0;36m<module>\u001b[0;34m\u001b[0m\n\u001b[0;32m----> 1\u001b[0;31m x = apply_secret_stat(group_by=gb,\n\u001b[0m\u001b[1;32m      2\u001b[0m                       \u001b[0mcolumns_apply_secret\u001b[0m\u001b[0;34m=\u001b[0m\u001b[0mcol_secret\u001b[0m\u001b[0;34m,\u001b[0m\u001b[0;34m\u001b[0m\u001b[0;34m\u001b[0m\u001b[0m\n\u001b[1;32m      3\u001b[0m                       \u001b[0mcolumn_to_check\u001b[0m\u001b[0;34m=\u001b[0m\u001b[0;34m\"CODE_REGION\"\u001b[0m\u001b[0;34m,\u001b[0m\u001b[0;34m\u001b[0m\u001b[0;34m\u001b[0m\u001b[0m\n\u001b[1;32m      4\u001b[0m                       \u001b[0mdataframe\u001b[0m\u001b[0;34m=\u001b[0m\u001b[0mdf\u001b[0m\u001b[0;34m,\u001b[0m\u001b[0;34m\u001b[0m\u001b[0;34m\u001b[0m\u001b[0m\n\u001b[1;32m      5\u001b[0m                      export_to_csv=True)\n",
      "\u001b[0;31mTypeError\u001b[0m: apply_secret_stat() got an unexpected keyword argument 'group_by'"
     ]
    }
   ],
   "source": [
    "x = apply_secret_stat(group_by=gb,\n",
    "                      columns_apply_secret=col_secret,\n",
    "                      column_to_check=\"CODE_REGION\",\n",
    "                      dataframe=df,\n",
    "                     export_to_csv=True)"
   ]
  },
  {
   "cell_type": "code",
   "execution_count": 32,
   "metadata": {},
   "outputs": [],
   "source": [
    "gb = [\n",
    "    (\"CODE_REGION\", \"CODE_DEPARTEMENT\"),\n",
    "    (\"MESURE\", \"FILIÈRE\"),\n",
    "    (\"MESURE\", \"TYPE_ENTREPRISE\"),\n",
    "]\n",
    "\n",
    "col_secret = [\n",
    "    \"MONTANT_INVESTISSEMENT\",\n",
    "    \"MONTANT_PARTICIPATION_ETAT\"\n",
    "]"
   ]
  },
  {
   "cell_type": "code",
   "execution_count": 52,
   "metadata": {},
   "outputs": [
    {
     "ename": "KeyError",
     "evalue": "'CODE_REGION'",
     "output_type": "error",
     "traceback": [
      "\u001b[0;31m---------------------------------------------------------------------------\u001b[0m",
      "\u001b[0;31mKeyError\u001b[0m                                  Traceback (most recent call last)",
      "\u001b[0;32m<ipython-input-52-45b181313256>\u001b[0m in \u001b[0;36m<module>\u001b[0;34m\u001b[0m\n\u001b[0;32m----> 1\u001b[0;31m x = apply_secret_stat(group_by=gb,\n\u001b[0m\u001b[1;32m      2\u001b[0m                       \u001b[0mcolumns_apply_secret\u001b[0m\u001b[0;34m=\u001b[0m\u001b[0mcol_secret\u001b[0m\u001b[0;34m,\u001b[0m\u001b[0;34m\u001b[0m\u001b[0;34m\u001b[0m\u001b[0m\n\u001b[1;32m      3\u001b[0m                       \u001b[0mcolumn_to_check\u001b[0m\u001b[0;34m=\u001b[0m\u001b[0;34m\"CODE_REGION\"\u001b[0m\u001b[0;34m,\u001b[0m\u001b[0;34m\u001b[0m\u001b[0;34m\u001b[0m\u001b[0m\n\u001b[1;32m      4\u001b[0m                       \u001b[0mdataframe\u001b[0m\u001b[0;34m=\u001b[0m\u001b[0mdf\u001b[0m\u001b[0;34m,\u001b[0m\u001b[0;34m\u001b[0m\u001b[0;34m\u001b[0m\u001b[0m\n\u001b[1;32m      5\u001b[0m                      export_to_csv=True)\n",
      "\u001b[0;32m~/Projects/secret_stat/main.py\u001b[0m in \u001b[0;36mapply_secret_stat\u001b[0;34m(group_by, columns_apply_secret, column_to_check, data_path, sep, dataframe, export_to_csv, path_to_export)\u001b[0m\n\u001b[1;32m     30\u001b[0m \u001b[0;34m\u001b[0m\u001b[0m\n\u001b[1;32m     31\u001b[0m     \u001b[0;31m# Test the multiple aggregation\u001b[0m\u001b[0;34m\u001b[0m\u001b[0;34m\u001b[0m\u001b[0;34m\u001b[0m\u001b[0m\n\u001b[0;32m---> 32\u001b[0;31m     final_masked_dict = specific_aggregator.specific_aggregator_factory(df_entreprises, group_by,\n\u001b[0m\u001b[1;32m     33\u001b[0m                                                                         columns_apply_secret)\n\u001b[1;32m     34\u001b[0m \u001b[0;34m\u001b[0m\u001b[0m\n",
      "\u001b[0;32m~/Projects/secret_stat/aggregation.py\u001b[0m in \u001b[0;36mspecific_aggregator_factory\u001b[0;34m(self, df, group_by, columns_apply_secret)\u001b[0m\n\u001b[1;32m     33\u001b[0m     \u001b[0;32mdef\u001b[0m \u001b[0mspecific_aggregator_factory\u001b[0m\u001b[0;34m(\u001b[0m\u001b[0mself\u001b[0m\u001b[0;34m,\u001b[0m \u001b[0mdf\u001b[0m\u001b[0;34m:\u001b[0m \u001b[0mpd\u001b[0m\u001b[0;34m.\u001b[0m\u001b[0mDataFrame\u001b[0m\u001b[0;34m,\u001b[0m \u001b[0mgroup_by\u001b[0m\u001b[0;34m:\u001b[0m \u001b[0mlist\u001b[0m\u001b[0;34m,\u001b[0m \u001b[0mcolumns_apply_secret\u001b[0m\u001b[0;34m:\u001b[0m \u001b[0mlist\u001b[0m\u001b[0;34m)\u001b[0m \u001b[0;34m->\u001b[0m \u001b[0mpd\u001b[0m\u001b[0;34m.\u001b[0m\u001b[0mDataFrame\u001b[0m\u001b[0;34m:\u001b[0m\u001b[0;34m\u001b[0m\u001b[0;34m\u001b[0m\u001b[0m\n\u001b[1;32m     34\u001b[0m         \u001b[0mversion_3\u001b[0m \u001b[0;34m=\u001b[0m \u001b[0mself\u001b[0m\u001b[0;34m.\u001b[0m\u001b[0mperform_multiple_safe_aggregation\u001b[0m\u001b[0;34m(\u001b[0m\u001b[0mdf\u001b[0m\u001b[0;34m,\u001b[0m \u001b[0mgroup_by\u001b[0m\u001b[0;34m)\u001b[0m\u001b[0;34m\u001b[0m\u001b[0;34m\u001b[0m\u001b[0m\n\u001b[0;32m---> 35\u001b[0;31m         dict_masked_secondary = self.check_and_apply_secondary_secret(version_3,\n\u001b[0m\u001b[1;32m     36\u001b[0m                                                                       \u001b[0mgroup_by\u001b[0m\u001b[0;34m,\u001b[0m\u001b[0;34m\u001b[0m\u001b[0;34m\u001b[0m\u001b[0m\n\u001b[1;32m     37\u001b[0m                                                                       \u001b[0mcolumns_apply_secret\u001b[0m\u001b[0;34m,\u001b[0m\u001b[0;34m\u001b[0m\u001b[0;34m\u001b[0m\u001b[0m\n",
      "\u001b[0;32m~/Projects/secret_stat/aggregation.py\u001b[0m in \u001b[0;36mcheck_and_apply_secondary_secret\u001b[0;34m(self, df_dict, gb_keys, columns_apply_secret, verbose)\u001b[0m\n\u001b[1;32m    265\u001b[0m \u001b[0;34m\u001b[0m\u001b[0m\n\u001b[1;32m    266\u001b[0m         \u001b[0mdisclosure_df_0\u001b[0m \u001b[0;34m=\u001b[0m \u001b[0mself\u001b[0m\u001b[0;34m.\u001b[0m\u001b[0m_get_full_disclosion_df\u001b[0m\u001b[0;34m(\u001b[0m\u001b[0mdf_0\u001b[0m\u001b[0;34m)\u001b[0m\u001b[0;34m\u001b[0m\u001b[0;34m\u001b[0m\u001b[0m\n\u001b[0;32m--> 267\u001b[0;31m         \u001b[0mdisclosure_df_1\u001b[0m \u001b[0;34m=\u001b[0m \u001b[0mself\u001b[0m\u001b[0;34m.\u001b[0m\u001b[0m_get_full_disclosion_df\u001b[0m\u001b[0;34m(\u001b[0m\u001b[0mdf_1\u001b[0m\u001b[0;34m)\u001b[0m\u001b[0;34m\u001b[0m\u001b[0;34m\u001b[0m\u001b[0m\n\u001b[0m\u001b[1;32m    268\u001b[0m \u001b[0;34m\u001b[0m\u001b[0m\n\u001b[1;32m    269\u001b[0m         \u001b[0;32mfor\u001b[0m \u001b[0mcolumn_name\u001b[0m \u001b[0;32min\u001b[0m \u001b[0mself\u001b[0m\u001b[0;34m.\u001b[0m\u001b[0mrelevant_column\u001b[0m\u001b[0;34m:\u001b[0m\u001b[0;34m\u001b[0m\u001b[0;34m\u001b[0m\u001b[0m\n",
      "\u001b[0;32m~/Projects/secret_stat/aggregation.py\u001b[0m in \u001b[0;36m_get_full_disclosion_df\u001b[0;34m(self, init_df)\u001b[0m\n\u001b[1;32m    196\u001b[0m \u001b[0;34m\u001b[0m\u001b[0m\n\u001b[1;32m    197\u001b[0m         \u001b[0;32mfor\u001b[0m \u001b[0mcolumn_name\u001b[0m \u001b[0;32min\u001b[0m \u001b[0mself\u001b[0m\u001b[0;34m.\u001b[0m\u001b[0mrelevant_column\u001b[0m\u001b[0;34m:\u001b[0m\u001b[0;34m\u001b[0m\u001b[0;34m\u001b[0m\u001b[0m\n\u001b[0;32m--> 198\u001b[0;31m             df_grouped = self._compute_columns_secondary_secret(init_df,\n\u001b[0m\u001b[1;32m    199\u001b[0m                                                                 [self.common_column, column_name + '_keep'])\n\u001b[1;32m    200\u001b[0m \u001b[0;34m\u001b[0m\u001b[0m\n",
      "\u001b[0;32m~/Projects/secret_stat/aggregation.py\u001b[0m in \u001b[0;36m_compute_columns_secondary_secret\u001b[0;34m(self, df, column_names)\u001b[0m\n\u001b[1;32m    168\u001b[0m                             for (col_lvl2, func) in LIST_FUNCTIONS}\n\u001b[1;32m    169\u001b[0m \u001b[0;34m\u001b[0m\u001b[0m\n\u001b[0;32m--> 170\u001b[0;31m         grouped_df = df.groupby(column_names,\n\u001b[0m\u001b[1;32m    171\u001b[0m                                 as_index=False).agg(aggregation_dict)\n\u001b[1;32m    172\u001b[0m         \u001b[0;32mreturn\u001b[0m \u001b[0mgrouped_df\u001b[0m\u001b[0;34m\u001b[0m\u001b[0;34m\u001b[0m\u001b[0m\n",
      "\u001b[0;32m~/anaconda3/envs/secret_stat/lib/python3.8/site-packages/pandas/core/frame.py\u001b[0m in \u001b[0;36mgroupby\u001b[0;34m(self, by, axis, level, as_index, sort, group_keys, squeeze, observed, dropna)\u001b[0m\n\u001b[1;32m   6712\u001b[0m         \u001b[0maxis\u001b[0m \u001b[0;34m=\u001b[0m \u001b[0mself\u001b[0m\u001b[0;34m.\u001b[0m\u001b[0m_get_axis_number\u001b[0m\u001b[0;34m(\u001b[0m\u001b[0maxis\u001b[0m\u001b[0;34m)\u001b[0m\u001b[0;34m\u001b[0m\u001b[0;34m\u001b[0m\u001b[0m\n\u001b[1;32m   6713\u001b[0m \u001b[0;34m\u001b[0m\u001b[0m\n\u001b[0;32m-> 6714\u001b[0;31m         return DataFrameGroupBy(\n\u001b[0m\u001b[1;32m   6715\u001b[0m             \u001b[0mobj\u001b[0m\u001b[0;34m=\u001b[0m\u001b[0mself\u001b[0m\u001b[0;34m,\u001b[0m\u001b[0;34m\u001b[0m\u001b[0;34m\u001b[0m\u001b[0m\n\u001b[1;32m   6716\u001b[0m             \u001b[0mkeys\u001b[0m\u001b[0;34m=\u001b[0m\u001b[0mby\u001b[0m\u001b[0;34m,\u001b[0m\u001b[0;34m\u001b[0m\u001b[0;34m\u001b[0m\u001b[0m\n",
      "\u001b[0;32m~/anaconda3/envs/secret_stat/lib/python3.8/site-packages/pandas/core/groupby/groupby.py\u001b[0m in \u001b[0;36m__init__\u001b[0;34m(self, obj, keys, axis, level, grouper, exclusions, selection, as_index, sort, group_keys, squeeze, observed, mutated, dropna)\u001b[0m\n\u001b[1;32m    558\u001b[0m             \u001b[0;32mfrom\u001b[0m \u001b[0mpandas\u001b[0m\u001b[0;34m.\u001b[0m\u001b[0mcore\u001b[0m\u001b[0;34m.\u001b[0m\u001b[0mgroupby\u001b[0m\u001b[0;34m.\u001b[0m\u001b[0mgrouper\u001b[0m \u001b[0;32mimport\u001b[0m \u001b[0mget_grouper\u001b[0m\u001b[0;34m\u001b[0m\u001b[0;34m\u001b[0m\u001b[0m\n\u001b[1;32m    559\u001b[0m \u001b[0;34m\u001b[0m\u001b[0m\n\u001b[0;32m--> 560\u001b[0;31m             grouper, exclusions, obj = get_grouper(\n\u001b[0m\u001b[1;32m    561\u001b[0m                 \u001b[0mobj\u001b[0m\u001b[0;34m,\u001b[0m\u001b[0;34m\u001b[0m\u001b[0;34m\u001b[0m\u001b[0m\n\u001b[1;32m    562\u001b[0m                 \u001b[0mkeys\u001b[0m\u001b[0;34m,\u001b[0m\u001b[0;34m\u001b[0m\u001b[0;34m\u001b[0m\u001b[0m\n",
      "\u001b[0;32m~/anaconda3/envs/secret_stat/lib/python3.8/site-packages/pandas/core/groupby/grouper.py\u001b[0m in \u001b[0;36mget_grouper\u001b[0;34m(obj, key, axis, level, sort, observed, mutated, validate, dropna)\u001b[0m\n\u001b[1;32m    814\u001b[0m                 \u001b[0min_axis\u001b[0m\u001b[0;34m,\u001b[0m \u001b[0mname\u001b[0m\u001b[0;34m,\u001b[0m \u001b[0mlevel\u001b[0m\u001b[0;34m,\u001b[0m \u001b[0mgpr\u001b[0m \u001b[0;34m=\u001b[0m \u001b[0;32mFalse\u001b[0m\u001b[0;34m,\u001b[0m \u001b[0;32mNone\u001b[0m\u001b[0;34m,\u001b[0m \u001b[0mgpr\u001b[0m\u001b[0;34m,\u001b[0m \u001b[0;32mNone\u001b[0m\u001b[0;34m\u001b[0m\u001b[0;34m\u001b[0m\u001b[0m\n\u001b[1;32m    815\u001b[0m             \u001b[0;32melse\u001b[0m\u001b[0;34m:\u001b[0m\u001b[0;34m\u001b[0m\u001b[0;34m\u001b[0m\u001b[0m\n\u001b[0;32m--> 816\u001b[0;31m                 \u001b[0;32mraise\u001b[0m \u001b[0mKeyError\u001b[0m\u001b[0;34m(\u001b[0m\u001b[0mgpr\u001b[0m\u001b[0;34m)\u001b[0m\u001b[0;34m\u001b[0m\u001b[0;34m\u001b[0m\u001b[0m\n\u001b[0m\u001b[1;32m    817\u001b[0m         \u001b[0;32melif\u001b[0m \u001b[0misinstance\u001b[0m\u001b[0;34m(\u001b[0m\u001b[0mgpr\u001b[0m\u001b[0;34m,\u001b[0m \u001b[0mGrouper\u001b[0m\u001b[0;34m)\u001b[0m \u001b[0;32mand\u001b[0m \u001b[0mgpr\u001b[0m\u001b[0;34m.\u001b[0m\u001b[0mkey\u001b[0m \u001b[0;32mis\u001b[0m \u001b[0;32mnot\u001b[0m \u001b[0;32mNone\u001b[0m\u001b[0;34m:\u001b[0m\u001b[0;34m\u001b[0m\u001b[0;34m\u001b[0m\u001b[0m\n\u001b[1;32m    818\u001b[0m             \u001b[0;31m# Add key to exclusions\u001b[0m\u001b[0;34m\u001b[0m\u001b[0;34m\u001b[0m\u001b[0;34m\u001b[0m\u001b[0m\n",
      "\u001b[0;31mKeyError\u001b[0m: 'CODE_REGION'"
     ]
    }
   ],
   "source": [
    "x = apply_secret_stat(group_by=gb,\n",
    "                      columns_apply_secret=col_secret,\n",
    "                      column_to_check=\"CODE_REGION\",\n",
    "                      dataframe=df,\n",
    "                     export_to_csv=True)"
   ]
  },
  {
   "cell_type": "code",
   "execution_count": 30,
   "metadata": {},
   "outputs": [
    {
     "name": "stdout",
     "output_type": "stream",
     "text": [
      "/home/qdesrousseaux-adc/Projects/secret_stat\r\n"
     ]
    }
   ],
   "source": [
    "!pwd"
   ]
  },
  {
   "cell_type": "code",
   "execution_count": 92,
   "metadata": {},
   "outputs": [
    {
     "data": {
      "text/html": [
       "<div>\n",
       "<style scoped>\n",
       "    .dataframe tbody tr th:only-of-type {\n",
       "        vertical-align: middle;\n",
       "    }\n",
       "\n",
       "    .dataframe tbody tr th {\n",
       "        vertical-align: top;\n",
       "    }\n",
       "\n",
       "    .dataframe thead th {\n",
       "        text-align: right;\n",
       "    }\n",
       "</style>\n",
       "<table border=\"1\" class=\"dataframe\">\n",
       "  <thead>\n",
       "    <tr style=\"text-align: right;\">\n",
       "      <th></th>\n",
       "      <th>MESURE</th>\n",
       "      <th>MESURE_LIGHT</th>\n",
       "      <th>VOLET_RELANCE</th>\n",
       "      <th>ANNONCE</th>\n",
       "      <th>ENTREPRISE</th>\n",
       "      <th>SIRET (OU SIREN à défaut)</th>\n",
       "      <th>FILIÈRE</th>\n",
       "      <th>DESCRIPTION_PROJET</th>\n",
       "      <th>MONTANT_INVESTISSEMENT</th>\n",
       "      <th>MONTANT_PARTICIPATION_ETAT</th>\n",
       "      <th>...</th>\n",
       "      <th>CODE_DEPARTEMENT</th>\n",
       "      <th>NOM_DEPARTEMENT</th>\n",
       "      <th>NOM_REGION</th>\n",
       "      <th>CODE_REGION</th>\n",
       "      <th>COORDONNEES_GPS</th>\n",
       "      <th>Unnamed: 21</th>\n",
       "      <th>Unnamed: 22</th>\n",
       "      <th>Unnamed: 23</th>\n",
       "      <th>Unnamed: 24</th>\n",
       "      <th>Unnamed: 25</th>\n",
       "    </tr>\n",
       "  </thead>\n",
       "  <tbody>\n",
       "    <tr>\n",
       "      <th>627</th>\n",
       "      <td>SOUTIEN À L’INVESTISSEMENT INDUSTRIEL DANS LES...</td>\n",
       "      <td>Projets territoriaux</td>\n",
       "      <td>Indépendance / Compétitivité</td>\n",
       "      <td>2020-12-17</td>\n",
       "      <td>DISTILLERIE LONGUETEAU</td>\n",
       "      <td>480850262.0</td>\n",
       "      <td>AGROALIMENTAIRE</td>\n",
       "      <td>La Distillerie a le projet industriel de const...</td>\n",
       "      <td>4585000.0</td>\n",
       "      <td>800000.0</td>\n",
       "      <td>...</td>\n",
       "      <td>971</td>\n",
       "      <td>GUADELOUPE</td>\n",
       "      <td>GUADELOUPE</td>\n",
       "      <td>1</td>\n",
       "      <td>16.0553416101,-61.6117007507</td>\n",
       "      <td>NaN</td>\n",
       "      <td>NaN</td>\n",
       "      <td>NaN</td>\n",
       "      <td>NaN</td>\n",
       "      <td>NaN</td>\n",
       "    </tr>\n",
       "    <tr>\n",
       "      <th>628</th>\n",
       "      <td>SOUTIEN À L’INVESTISSEMENT INDUSTRIEL DANS LES...</td>\n",
       "      <td>Projets territoriaux</td>\n",
       "      <td>Indépendance / Compétitivité</td>\n",
       "      <td>2020-12-17</td>\n",
       "      <td>GAZ DOM</td>\n",
       "      <td>809765373.0</td>\n",
       "      <td>ENERGIE</td>\n",
       "      <td>Le projet de GAZ DOM est d'acquérir une usine ...</td>\n",
       "      <td>3060159.0</td>\n",
       "      <td>800000.0</td>\n",
       "      <td>...</td>\n",
       "      <td>972</td>\n",
       "      <td>MARTINIQUE</td>\n",
       "      <td>MARTINIQUE</td>\n",
       "      <td>2</td>\n",
       "      <td>14.5777851381,-60.9676704441</td>\n",
       "      <td>NaN</td>\n",
       "      <td>NaN</td>\n",
       "      <td>NaN</td>\n",
       "      <td>NaN</td>\n",
       "      <td>NaN</td>\n",
       "    </tr>\n",
       "    <tr>\n",
       "      <th>629</th>\n",
       "      <td>SOUTIEN À L’INVESTISSEMENT INDUSTRIEL DANS LES...</td>\n",
       "      <td>Projets territoriaux</td>\n",
       "      <td>Indépendance / Compétitivité</td>\n",
       "      <td>2020-12-17</td>\n",
       "      <td>GOV' ENVIRONNEMENT</td>\n",
       "      <td>799765557.0</td>\n",
       "      <td>ENERGIE</td>\n",
       "      <td>Premier projet du programme pluriannuel d’inve...</td>\n",
       "      <td>3768385.0</td>\n",
       "      <td>800000.0</td>\n",
       "      <td>...</td>\n",
       "      <td>973</td>\n",
       "      <td>GUYANE</td>\n",
       "      <td>GUYANE</td>\n",
       "      <td>3</td>\n",
       "      <td>5.02173742828,-52.5012511113</td>\n",
       "      <td>NaN</td>\n",
       "      <td>NaN</td>\n",
       "      <td>NaN</td>\n",
       "      <td>NaN</td>\n",
       "      <td>NaN</td>\n",
       "    </tr>\n",
       "    <tr>\n",
       "      <th>630</th>\n",
       "      <td>SOUTIEN À L’INVESTISSEMENT INDUSTRIEL DANS LES...</td>\n",
       "      <td>Projets territoriaux</td>\n",
       "      <td>Indépendance / Compétitivité</td>\n",
       "      <td>2020-12-17</td>\n",
       "      <td>YANA WASSAI</td>\n",
       "      <td>821897261.0</td>\n",
       "      <td>AGROALIMENTAIRE</td>\n",
       "      <td>Améliorer la qualité des produits finis de par...</td>\n",
       "      <td>706128.0</td>\n",
       "      <td>581600.0</td>\n",
       "      <td>...</td>\n",
       "      <td>973</td>\n",
       "      <td>GUYANE</td>\n",
       "      <td>GUYANE</td>\n",
       "      <td>3</td>\n",
       "      <td>4.80953892931,-52.5098116892</td>\n",
       "      <td>NaN</td>\n",
       "      <td>NaN</td>\n",
       "      <td>NaN</td>\n",
       "      <td>NaN</td>\n",
       "      <td>NaN</td>\n",
       "    </tr>\n",
       "    <tr>\n",
       "      <th>631</th>\n",
       "      <td>SOUTIEN À L’INVESTISSEMENT INDUSTRIEL DANS LES...</td>\n",
       "      <td>Projets territoriaux</td>\n",
       "      <td>Indépendance / Compétitivité</td>\n",
       "      <td>2020-12-17</td>\n",
       "      <td>ARCHIPEL BOIS HABITAT-BOURBON BOIS EXPERIENCE</td>\n",
       "      <td>844330100.0</td>\n",
       "      <td>BOIS</td>\n",
       "      <td>Le projet consiste au financement d'une usine ...</td>\n",
       "      <td>2928000.0</td>\n",
       "      <td>800000.0</td>\n",
       "      <td>...</td>\n",
       "      <td>974</td>\n",
       "      <td>LA RÉUNION</td>\n",
       "      <td>LA RÉUNION</td>\n",
       "      <td>4</td>\n",
       "      <td>-21.3123242427,55.4936155164</td>\n",
       "      <td>NaN</td>\n",
       "      <td>NaN</td>\n",
       "      <td>NaN</td>\n",
       "      <td>NaN</td>\n",
       "      <td>NaN</td>\n",
       "    </tr>\n",
       "    <tr>\n",
       "      <th>632</th>\n",
       "      <td>SOUTIEN À L’INVESTISSEMENT INDUSTRIEL DANS LES...</td>\n",
       "      <td>Projets territoriaux</td>\n",
       "      <td>Indépendance / Compétitivité</td>\n",
       "      <td>2020-12-17</td>\n",
       "      <td>GLASS TER' NATIVE</td>\n",
       "      <td>849737234.0</td>\n",
       "      <td>TRANSFORMATION ET VALORISATION DES DÉCHETS</td>\n",
       "      <td>Glassternative vise à construire des unités ré...</td>\n",
       "      <td>3700000.0</td>\n",
       "      <td>600000.0</td>\n",
       "      <td>...</td>\n",
       "      <td>974</td>\n",
       "      <td>LA RÉUNION</td>\n",
       "      <td>LA RÉUNION</td>\n",
       "      <td>4</td>\n",
       "      <td>-20.899934390640528, 55.52730327612848</td>\n",
       "      <td>NaN</td>\n",
       "      <td>NaN</td>\n",
       "      <td>NaN</td>\n",
       "      <td>NaN</td>\n",
       "      <td>NaN</td>\n",
       "    </tr>\n",
       "  </tbody>\n",
       "</table>\n",
       "<p>6 rows × 26 columns</p>\n",
       "</div>"
      ],
      "text/plain": [
       "                                                MESURE          MESURE_LIGHT  \\\n",
       "627  SOUTIEN À L’INVESTISSEMENT INDUSTRIEL DANS LES...  Projets territoriaux   \n",
       "628  SOUTIEN À L’INVESTISSEMENT INDUSTRIEL DANS LES...  Projets territoriaux   \n",
       "629  SOUTIEN À L’INVESTISSEMENT INDUSTRIEL DANS LES...  Projets territoriaux   \n",
       "630  SOUTIEN À L’INVESTISSEMENT INDUSTRIEL DANS LES...  Projets territoriaux   \n",
       "631  SOUTIEN À L’INVESTISSEMENT INDUSTRIEL DANS LES...  Projets territoriaux   \n",
       "632  SOUTIEN À L’INVESTISSEMENT INDUSTRIEL DANS LES...  Projets territoriaux   \n",
       "\n",
       "                    VOLET_RELANCE    ANNONCE  \\\n",
       "627  Indépendance / Compétitivité 2020-12-17   \n",
       "628  Indépendance / Compétitivité 2020-12-17   \n",
       "629  Indépendance / Compétitivité 2020-12-17   \n",
       "630  Indépendance / Compétitivité 2020-12-17   \n",
       "631  Indépendance / Compétitivité 2020-12-17   \n",
       "632  Indépendance / Compétitivité 2020-12-17   \n",
       "\n",
       "                                        ENTREPRISE  SIRET (OU SIREN à défaut)  \\\n",
       "627                         DISTILLERIE LONGUETEAU                480850262.0   \n",
       "628                                        GAZ DOM                809765373.0   \n",
       "629                             GOV' ENVIRONNEMENT                799765557.0   \n",
       "630                                    YANA WASSAI                821897261.0   \n",
       "631  ARCHIPEL BOIS HABITAT-BOURBON BOIS EXPERIENCE                844330100.0   \n",
       "632                              GLASS TER' NATIVE                849737234.0   \n",
       "\n",
       "                                        FILIÈRE  \\\n",
       "627                             AGROALIMENTAIRE   \n",
       "628                                     ENERGIE   \n",
       "629                                     ENERGIE   \n",
       "630                             AGROALIMENTAIRE   \n",
       "631                                        BOIS   \n",
       "632  TRANSFORMATION ET VALORISATION DES DÉCHETS   \n",
       "\n",
       "                                    DESCRIPTION_PROJET  \\\n",
       "627  La Distillerie a le projet industriel de const...   \n",
       "628  Le projet de GAZ DOM est d'acquérir une usine ...   \n",
       "629  Premier projet du programme pluriannuel d’inve...   \n",
       "630  Améliorer la qualité des produits finis de par...   \n",
       "631  Le projet consiste au financement d'une usine ...   \n",
       "632  Glassternative vise à construire des unités ré...   \n",
       "\n",
       "     MONTANT_INVESTISSEMENT  MONTANT_PARTICIPATION_ETAT  ... CODE_DEPARTEMENT  \\\n",
       "627               4585000.0                    800000.0  ...              971   \n",
       "628               3060159.0                    800000.0  ...              972   \n",
       "629               3768385.0                    800000.0  ...              973   \n",
       "630                706128.0                    581600.0  ...              973   \n",
       "631               2928000.0                    800000.0  ...              974   \n",
       "632               3700000.0                    600000.0  ...              974   \n",
       "\n",
       "     NOM_DEPARTEMENT  NOM_REGION CODE_REGION  \\\n",
       "627       GUADELOUPE  GUADELOUPE           1   \n",
       "628       MARTINIQUE  MARTINIQUE           2   \n",
       "629           GUYANE      GUYANE           3   \n",
       "630           GUYANE      GUYANE           3   \n",
       "631       LA RÉUNION  LA RÉUNION           4   \n",
       "632       LA RÉUNION  LA RÉUNION           4   \n",
       "\n",
       "                            COORDONNEES_GPS Unnamed: 21 Unnamed: 22  \\\n",
       "627            16.0553416101,-61.6117007507         NaN         NaN   \n",
       "628            14.5777851381,-60.9676704441         NaN         NaN   \n",
       "629            5.02173742828,-52.5012511113         NaN         NaN   \n",
       "630            4.80953892931,-52.5098116892         NaN         NaN   \n",
       "631            -21.3123242427,55.4936155164         NaN         NaN   \n",
       "632  -20.899934390640528, 55.52730327612848         NaN         NaN   \n",
       "\n",
       "    Unnamed: 23 Unnamed: 24 Unnamed: 25  \n",
       "627         NaN         NaN         NaN  \n",
       "628         NaN         NaN         NaN  \n",
       "629         NaN         NaN         NaN  \n",
       "630         NaN         NaN         NaN  \n",
       "631         NaN         NaN         NaN  \n",
       "632         NaN         NaN         NaN  \n",
       "\n",
       "[6 rows x 26 columns]"
      ]
     },
     "execution_count": 92,
     "metadata": {},
     "output_type": "execute_result"
    }
   ],
   "source": [
    "df.loc[(df.CODE_DEPARTEMENT.str.len()==3) & (df.CODE_DEPARTEMENT !=\"nan\") ]"
   ]
  },
  {
   "cell_type": "code",
   "execution_count": null,
   "metadata": {},
   "outputs": [],
   "source": []
  }
 ],
 "metadata": {
  "kernelspec": {
   "display_name": "Python 3",
   "language": "python",
   "name": "python3"
  },
  "language_info": {
   "codemirror_mode": {
    "name": "ipython",
    "version": 3
   },
   "file_extension": ".py",
   "mimetype": "text/x-python",
   "name": "python",
   "nbconvert_exporter": "python",
   "pygments_lexer": "ipython3",
   "version": "3.8.3"
  }
 },
 "nbformat": 4,
 "nbformat_minor": 4
}
